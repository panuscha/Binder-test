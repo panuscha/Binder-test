{
 "cells": [
  {
   "cell_type": "markdown",
   "metadata": {},
   "source": [
    "# Zobrazení souhrnných statistik\n",
    "\n",
    "V tomto notebooku si ukážeme, jak zpracovat data, která jsme si uložili do formátu CSV v předchozím notebooku. Naučíme se, jak spočítat četnost jednotlivých sloupců v CSV tabulce a jak zjistit, který autor za daný rok se v databázi objevuje nejčastěji. <br>\n",
    "\n",
    "Tento notebook je určený jak pro začátečníky, tak pro ty, kteří se chtějí seznámit se zpracováním dat v Pythonu.\n",
    "\n",
    "## Požadavky\n",
    "\n",
    "K práci s notebookem je potřeba mít vytvořený CSV soubor z notebooku Explore Data.<br>\n",
    "\n",
    "## Předpoklady\n",
    "\n",
    "Notebook nepředpokládá hluboké znalosti Pythonu, ale základní znalost programování bude užitečná.<br> \n",
    "\n",
    "## Struktura notebooku\n",
    "\n",
    "Notebook je rozdělen do několika částí:\n",
    "\n",
    "0. **Příprava**: Přidáme potřebné knihovny, které budeme používat ke zpracování marcového souboru. \n",
    "\n",
    "1. **Načtení z CSV**: Ukážeme si, jak načíst naše data uložená v CSV.\n",
    "\n",
    "2. **Souhrnné statistiky**: Naučíme se, jak z dat získat informace o nejčastějších autorech.\n",
    "\n",
    "## Další zdroje\n",
    "\n",
    "- [LearnPython.org](https://www.learnpython.org/): Tento online kurz nabízí výuku jazyka Python pro začátečníky i pokročilé. Může být užitečným zdrojem pro ty, kteří chtějí rozšířit své znalosti Pythonu.\n",
    "- [W3Schools.com/Python](https://www.w3schools.com/python/): Obsáhlý tutoriál, který provází i některými oblíbenými knihovnamy Pythonu. \n"
   ]
  },
  {
   "cell_type": "markdown",
   "metadata": {},
   "source": [
    "### 0. Příprava \n",
    "Jako první si musíme nainstalovat knihovny, se kterými budeme pracovat. Knihovny jsou balíčky funkcí, které nejsou součástí základu jazyka python. <br>\n",
    "Knihovny nainstalujeme pomocí příkazu `%pip install <jmeno_knihovny>` . Pak je do našeho notebooku přidáme pomocí příkazu `import <jmeno_knihovny> (as alias)`. K funkcím knihovny se pak přistupuje `jmeno_knihovny.jmeno_funkce` <br> \n",
    "Pokud z knihovny chceme využít pouze jednu funkci, přidáme ji pomocí `from <jmeno_knihovny> import <jmeno_funkce>`"
   ]
  },
  {
   "cell_type": "code",
   "execution_count": null,
   "metadata": {},
   "outputs": [],
   "source": [
    "# Prikaz ktery naistaluje knihovny\n",
    "%pip install pandas \n",
    "%pip install numpy \n",
    "%pip install matplotlib\n",
    "\n",
    "# Prikaz ktery knihovny prida \n",
    "from collections import Counter\n",
    "import pandas as pd\n",
    "import numpy as np"
   ]
  },
  {
   "cell_type": "markdown",
   "metadata": {},
   "source": [
    "### 1. Načtení z CSV\n",
    "\n",
    "Nejprve pomocí knihovny pandas načteme naše uložená csv data do datové struktury DataFrame (která je podobná např. excelovské tabulce). Řádky v DataFramu reprezentují jednotlivé záznamy, sloupce pak jeden typ (např. jmeno autora).\n",
    "Některá pole a podpole mohou opakovat, ty jsou  v csv spojené středníkem. V DataFramu pak funkcí `split()` hodnoty rozpojíme a převede do listu (seznamu). Pokud zrovna na daném místě žádná hodnota není, přidáme prázdný list.\n"
   ]
  },
  {
   "cell_type": "code",
   "execution_count": null,
   "metadata": {},
   "outputs": [],
   "source": [
    "# Vybereme bazi\n",
    "base = 'cle'\n",
    "\n",
    "# Cesta k nasim datum\n",
    "csv_data = 'data/csv/out_{base}.csv'.format(base = base)\n",
    "\n",
    "# Nacteni dat\n",
    "df = pd.read_csv(csv_data, delimiter=',')\n",
    "\n",
    "print(\"Data načtena do DataFramu df.\")\n",
    "\n",
    "for column in df.columns:\n",
    "    # Rok vydani bude vzdy jen jedenkrat\n",
    "    if column != 'year': \n",
    "        # Hodnoty spojene v jeden string zpatky rozdelime do listu, aby se nam s nim lepe pracovalo\n",
    "        df[column] = df[column].apply(lambda x: x.split(';') if isinstance(x, str)  else [])\n",
    "              "
   ]
  },
  {
   "cell_type": "markdown",
   "metadata": {},
   "source": [
    "### 2. Souhrnné statistiky\n",
    "\n",
    "Nyní se podíváme, jak z dat zjistit jednoduché statistiky. \n",
    "\n",
    "#### 2.1 Počet výskytů \n",
    "\n",
    "Pokud chceme vědet, kolikrát se v databázi objevuje nějaká hodnota, použijeme funkci `value_counts()`. V následujícím příkladu si ukážeme, kolik je v databázi z jakého roku záznamů.<br>\n",
    "Pomocí parametru `records_to_print` omezíme počet vypsaných záznamů na prvních x. Hodnoty se vypíší sestupně. "
   ]
  },
  {
   "cell_type": "code",
   "execution_count": null,
   "metadata": {},
   "outputs": [],
   "source": [
    "records_to_print = 20\n",
    "\n",
    "df['year'].value_counts()[:records_to_print] # vypise prvnich x zaznamu"
   ]
  },
  {
   "cell_type": "markdown",
   "metadata": {},
   "source": [
    "Vidíme, že zdaleka nejvíce záznamů je z 80. let, následně pak z let 70. "
   ]
  },
  {
   "cell_type": "markdown",
   "metadata": {},
   "source": [
    "<div class='alert alert-block alert-info'>\n",
    "    <b>Try It!</b> Místo sloupce 'year' můžeme vypsat např. 'author', čímž zjistíme, kolikrát se jaký autor v databázi objevuje.<br>\n",
    "</div>"
   ]
  },
  {
   "cell_type": "markdown",
   "metadata": {},
   "source": [
    "#### 2.2 Histogram\n",
    "\n",
    "Počet výskytů také můžeme vykreslit pomocí histogramu. K tomu použijeme funkci `plot()`, která nám hodnoty vykreslí. <br> \n",
    "\n",
    "Nejprve musíme zjistit, zda jsou všechny hodnoty ve sloupci čísla. Některé databáze (jako např. samizdat) totiž obsahují záznamy, kde není znám přesný rok vydání a chybějící číslice je nahrazena písmenem 'u'. Tyto hodnoty by nám nešli vykreslit, proto je musíme vyfiltrovat. <br> \n",
    "\n",
    "Pokud sloupec `year` obsahuje ne49seln0 hodnoty, vyfiltrujeme je. To uděláme pomocí funkce `isnumeric()`, která nám řekne, zda je hodnota číslo. Pak celý sloupec převedeme do datového typu integer.<br>\n",
    "\n",
    "Pokud už jsou všechny hodnoty číselné, pouze si  \n",
    "\n",
    "Pomocí parametru `kind` zvolíme typ zobrazení - histogram. Dále pomocí parametru `column` zvolíme data, která chceme zobrazit. Parametrem `bins` nastavíme počet sloupců.<br>\n",
    "Funkce `plot()` má i další parametry. Jejich výčet můžete najít na [této](https://pandas.pydata.org/docs/reference/api/pandas.DataFrame.plot.html) stránce.  \n"
   ]
  },
  {
   "cell_type": "code",
   "execution_count": null,
   "metadata": {},
   "outputs": [],
   "source": [
    "# Pokud sloupec nen slozen z cisel \n",
    "if df['year'].dtype != 'int64':\n",
    "\n",
    "    # Vyfiltrujeme hodnoty, kde jsou hodnoty cisla \n",
    "    df_years = df[df['year'].str.isnumeric()]\n",
    "\n",
    "    # Prevedeme string na integer\n",
    "    df_years['year'] = df_years['year'].astype(int)\n",
    "\n",
    "else:\n",
    "    \n",
    "    df_years = df\n",
    "\n",
    "df_years.plot(kind = 'hist',column='year',  bins=len(df_years['year'].unique()), grid=False, figsize=(12,8), color='#86bf91', rwidth=0.9, title = \"Počet záznamů za rok\")"
   ]
  },
  {
   "cell_type": "markdown",
   "metadata": {},
   "source": [
    "#### 2.3 Nejčastější autor v daném roce\n",
    "\n",
    "Teď si ukážeme, jak z dat zjistit, který autor v jakém roce se v záznamech v daném roce nejčastěji objevuje jako autor. Existuje několik způsobů, jak na to přijít. My si představíme tři.<br>\n"
   ]
  },
  {
   "cell_type": "markdown",
   "metadata": {},
   "source": [
    "##### 2.2.1 První varianta - value_counts\n",
    "\n",
    "V naší první variantě využijeme funkci `value_counts()`, kterou jsme se už naučili. <br>\n",
    "\n",
    "Abychom měli hezčí výpis, použijeme formátování. Předem si řekneme, v jakém formátu budeme chtít hodnoty vypsat a jak velké mezi nimi budou mezery.<br>\n",
    "U některých záznamů je nejčetnější hodnota prázdný list (tedy autor v záznamech chybí).  Proto prázdné řádky pro tento příklad vyfiltrujeme. <br>\n",
    "Pak budeme postupně procházet roky vydání záznamů. Z naší tabulky si vyselektujeme řádky s jedním rokem vydání. Na ně zavoláme funkci `value_counts()`. Funkce nám vrátí spočítané četnosti v sestupném pořadí, proto nám stačí vzít jen první hodnotu.<br>\n",
    "\n",
    "<b>Následující kód funguje pouze pro sloupce, kde se hodnoty v jednom řádku neopakují. Reprezentují marcová pole, která se nemohou opakovat.</b>\n"
   ]
  },
  {
   "cell_type": "code",
   "execution_count": null,
   "metadata": {},
   "outputs": [],
   "source": [
    "# Vybereme sloupec, ktery chceme vypsat\n",
    "picked_column = 'author'\n",
    "\n",
    "# Formatovani pro hezci vypis\n",
    "string = \"{year: >25} {name: >25} {records: >25}\"\n",
    "\n",
    "# Nejcastejsi hodnoty vypiseme\n",
    "print(string.format(year = \"Rok\", name = \"Nejčastější autor\", records = \"Počet záznamů\"))\n",
    "print(\"----------------------------------------------------------------------------------------------------\")\n",
    "\n",
    "# Data ocistime o prazdne hodnoty\n",
    "data_filtered = df[df[picked_column].apply(lambda x: len(x) > 0)]\n",
    "\n",
    "for year in  np.unique(df['year']):\n",
    "    if any(data_filtered[data_filtered['year'] == year]['author']):\n",
    "        ret = data_filtered[data_filtered['year'] == year]['author'].value_counts() \n",
    "        s = string.format(year = year, name = ' '.join(ret.index[0]), records = str(ret.values[0])) \n",
    "        print(s)"
   ]
  },
  {
   "cell_type": "markdown",
   "metadata": {},
   "source": [
    "V tabulce vidíme, že počet napsaných článků za jednotlivé roky se výrazně liší. "
   ]
  },
  {
   "cell_type": "markdown",
   "metadata": {},
   "source": [
    "#### 2.2.2 Druhá varianta - groupby a Counter\n",
    "\n",
    "V druhé variantě si ukážeme, jak data upravit pomocí funkcí `groupby()` a `Counter()` \n",
    "\n",
    "Tím, že máme data uložena do DataFramu, umožňuje nám to využít funkce knihovny pandas. V našem případě využijeme funkci `groupby()`, která data seskupí podle vybraného sloupce. <br>\n",
    "Použijeme také funkci `Counter()`, která nám spočte výskyt každého elementu. V neposlední řadě využijeme funkci `lambda`.<br>"
   ]
  },
  {
   "cell_type": "code",
   "execution_count": null,
   "metadata": {},
   "outputs": [],
   "source": [
    "# Vybereme sloupec, ktery chceme vypsat\n",
    "picked_column = 'author'\n",
    "\n",
    "# Data ocistime o prazdne hodnoty\n",
    "data_filtered = df[df[picked_column].apply(lambda x: len(x) > 0)]\n",
    "\n",
    "# Data seskupime podle nejcastejsiho elementu v kazde hodnote groupby\n",
    "most_common = data_filtered.groupby('year')[picked_column].apply(lambda x: Counter(element for elements in x for element in elements).most_common()[0] if len(x) > 0 else None) \n",
    "\n",
    "# Formatovani pro hezci vypis\n",
    "string = \"{year: >25} {name: >25} {records: >25}\"\n",
    "# Nejcastejsi hodnoty vypiseme\n",
    "print(string.format(year = \"Rok\", name = \"Nejčastější autor\", records = \"Počet záznamů\"))\n",
    "print(\"----------------------------------------------------------------------------------------------------\")\n",
    "\n",
    "for key, value in most_common.items():\n",
    "    print(string.format(year = key, name = value[0], records = value[1]))        "
   ]
  },
  {
   "cell_type": "markdown",
   "metadata": {},
   "source": [
    "<div class='alert alert-block alert-info'>\n",
    "    <b>Try It!</b> Kód je napsán tak, aby se parametry daly jednoduše upravit. Můžeme si tak zkusit změnit proměnnou picked_colum na 'figures', čímž zjistíme, o kom nejvíce se za daný rok psalo.\n",
    "</div>"
   ]
  },
  {
   "cell_type": "markdown",
   "metadata": {},
   "source": [
    "##### 2.2.1 Třetí varianta - vlastní funkce\n",
    "\n",
    "Jako poslední variantu si algoritmy napíšeme sami. Implementujeme dvě funkce, které pak zavoláme. <br>\n",
    "\n",
    "První funkce `count_years(df, column)` nám spočte počet článků každého autora v každém roce. Jako vstupy přijímá DataFrame `df` a vybraný sloupec `column`. Výsledky pak vrátí jako dictionary, kde klíčem je tuple (rok, jméno autora) a hodnota je počet článků.<br>\n",
    "Druhá funkce `find_most_common(count)` pak pro každý rok zjistí, který autor v každém roce napsal nejvíce článků. Vstupem je dictionary `count`, který nám vrátí funkce `count_years(df, column)`. Funkce pak postupně projde všechny klíče dictionary `count` a pro každý rok si pamatuje autora s nejvyšším počtem záznamů. Funkce nakonec vrátí setřízený dictionary, kde klíč je rok a hodnota je tuple (jmeno autora, počet záznamů).   \n"
   ]
  },
  {
   "cell_type": "code",
   "execution_count": null,
   "metadata": {},
   "outputs": [],
   "source": [
    "# Funkce ktera nam spocte pocet zaznamu v danem roce pro kazdeho autora\n",
    "def count_years(df, column):\n",
    "    \n",
    "    # Dictionary, ve kterem jako klic ulozime (rok, jmeno autora)\n",
    "    # a jako hodnotu budeme pripocitavat pocet clanku\n",
    "    count = {}\n",
    "    \n",
    "    # Projdeme radky DataFramu\n",
    "    for _,row in df.iterrows():\n",
    "        year = row['year']\n",
    "        for element in row[column]:\n",
    "            key = (year, element) \n",
    "            # Pokud klic jiz existuje, pripocteme jednicku\n",
    "            if key in count.keys():\n",
    "                count[key] += 1\n",
    "            else:\n",
    "                # Pokud klic zatim neexistuje, vytvorime ho a pridame jedna\n",
    "                count[key] = 1  \n",
    "    return count              \n",
    "\n",
    "# Funkce, ktera nam najde nejcastejsiho autora v danem roce\n",
    "def find_most_common(count):\n",
    "    # Dictionary, ve kterem jako klic ulozime rok\n",
    "    # a jako hodnotu (jmeno autora, pocet clanku)\n",
    "    most_common = {}\n",
    "\n",
    "    # Projdeme klice a hodnoty dictionary\n",
    "    for key,value in count.items():\n",
    "        year = key[0]\n",
    "        # Pokud klic (rok) jiz existuje, podivame se, \n",
    "        # zda je pocet clanku u aktualniho autora vyssi  \n",
    "        if year in most_common:\n",
    "            if most_common[year][1] < value:\n",
    "                # Pamatujeme si jen tu nejvyssi hodnotu\n",
    "                most_common[year] = (key[1], value)    \n",
    "        else:\n",
    "            most_common[year] = (key[1], value) \n",
    "    \n",
    "    #Klice slovniku seradime od nejmensiho cisla po nejvetsi         \n",
    "    years = list(most_common.keys())\n",
    "    years.sort()\n",
    "    sorted_most_common = {i: most_common[i] for i in years}        \n",
    "    return sorted_most_common            \n",
    "\n",
    "print(\"Funkce uloženy.\")\n",
    "  "
   ]
  },
  {
   "cell_type": "markdown",
   "metadata": {},
   "source": [
    "Teď už jen funkce zavoláme a výsledek vypíšeme. <br> \n",
    "Použijeme stejné formátování, které jsme si už napsali.  "
   ]
  },
  {
   "cell_type": "code",
   "execution_count": null,
   "metadata": {},
   "outputs": [],
   "source": [
    "# Vybereme sloupec, ktery chceme vypsat\n",
    "picked_column = 'author'\n",
    "\n",
    "# Zavolame nase funkce\n",
    "count = count_years(df, picked_column)\n",
    "\n",
    "most_common = find_most_common(count)\n",
    "\n",
    "# Formatovani pro hezci vypis\n",
    "string = \"{year: >25} {name: >25} {records: >25}\"\n",
    "\n",
    "# Nejcastejsi hodnoty vypiseme\n",
    "print(string.format(year = \"Rok\", name = \"Nejčastější autor\", records = \"Počet záznamů\"))\n",
    "print(\"----------------------------------------------------------------------------------------------------\")\n",
    "for key, value in most_common.items():\n",
    "    print(string.format(year = key, name = value[0], records = value[1]))        \n"
   ]
  },
  {
   "cell_type": "markdown",
   "metadata": {},
   "source": [
    "Je možné, že se od sebe budou tabulky mírně odlišovat a to v případě, že databáze za daný rok obsahuje více autorů se stejným počtem záznamů. "
   ]
  },
  {
   "cell_type": "markdown",
   "metadata": {},
   "source": [
    "<div class='alert alert-block alert-info'>\n",
    "    <b>Try It!</b> Napadá vás ještě nějaký jiný způsob, jak zjistit nejčastějšího autora?\n",
    "</div>\n"
   ]
  },
  {
   "cell_type": "markdown",
   "metadata": {},
   "source": [
    "#### 2.3 Nejčastější autor v daném roce - opakované hodnoty\n",
    "\n",
    "Jak jsme viděli, může stát, že četnost některých autorů za daný rok je stejná - tedy že rok obsahuje více autorů se stejným počtem záznamů, napíšeme si kód, v případě opakování vypíše všechny autory. <br>\n",
    "Ukážeme si dvě varianty."
   ]
  },
  {
   "cell_type": "markdown",
   "metadata": {},
   "source": [
    "##### 2.3.1 První varianta - Counter\n",
    "\n",
    "Napíšeme si funkci `max_counter(lst)`, která jako vstup bere list `lst`. Nejprve použijeme `Counter`, abychom spočítali počet výskytů jednotlivých prvků v listu. Poté najde maximální hodnotu počtu výskytů a vytvoří list těch prvků, které mají tento maximální počet výskytů. Funkce vrátí tento list prvků spolu s jejich počtem výskytů. <br>\n"
   ]
  },
  {
   "cell_type": "code",
   "execution_count": null,
   "metadata": {},
   "outputs": [],
   "source": [
    "def max_counter(lst):\n",
    "\n",
    "    # Pomocí Counteru spočteme počty výskytů prvků ve všech vnořených listech\n",
    "    counted_elements = Counter(element for elements in lst for element in elements)\n",
    "\n",
    "    # Najdeme maximální hodnoty počtu výskytů\n",
    "    max_val = max(counted_elements.values())\n",
    "\n",
    "    # Vytvoříme list prvků s maximálním počtem výskytů a jejich počty výskytů\n",
    "    ret = [(key, value) for key, value in counted_elements.items() if value == max_val]\n",
    "    return ret"
   ]
  },
  {
   "cell_type": "markdown",
   "metadata": {},
   "source": [
    "Projdeme unikátní roky v našich datech. Vyselektujeme ty řádky, kde se rok rovná. Naši připravenou funkci pak zavoláme na vyselektované řády. "
   ]
  },
  {
   "cell_type": "code",
   "execution_count": null,
   "metadata": {},
   "outputs": [],
   "source": [
    "\n",
    "# Vybereme sloupec, ktery chceme vypsat\n",
    "picked_column = 'author'\n",
    "\n",
    "# Data ocistime o prazdne hodnoty\n",
    "data_filtered = df[df[picked_column].apply(lambda x: len(x) > 0)]\n",
    "\n",
    "# Formatovani pro hezci vypis\n",
    "string = \"{year: >25} {name: >25} {records: >25}\"\n",
    "\n",
    "# Nejcastejsi hodnoty vypiseme\n",
    "print(string.format(year = \"Rok\", name = \"Nejčastější autor\", records = \"Počet záznamů\"))\n",
    "print(\"----------------------------------------------------------------------------------------------------\")\n",
    "\n",
    "# Projdeme unikátní roky \n",
    "for year in np.unique(data_filtered['year']):\n",
    "\n",
    "    # Zavoláme funkci  max_counter na vybraném sloupci dat pro konkrétní rok a získáme seznam nejčetnějších prvků\n",
    "    ret = max_counter(data_filtered[data_filtered['year'] == year][picked_column])\n",
    "\n",
    "    # Projdeme list nejčetnějších prvků pro daný rok\n",
    "    for name, number_of_records in ret:    \n",
    "        print(string.format(year = year, name = name, records = number_of_records))"
   ]
  },
  {
   "cell_type": "markdown",
   "metadata": {},
   "source": [
    "##### 2.3.1 Druhá varianta - úprava našich funkcí\n",
    "\n",
    "Funkce `count_years(df, column)` a `find_most_common(count)` už máme napsané. V tomto příkladu jen trochu poupravíme funkci `find_most_common(count)` tak, abychom si v případě, že narazíme na autora se stejným počtem článků jaký už máme uložený, zapamatujeme obě jména.  "
   ]
  },
  {
   "cell_type": "code",
   "execution_count": null,
   "metadata": {},
   "outputs": [],
   "source": [
    "# Funkce ktera nam spocte pocet zaznamu v danem roce pro kazdeho autora\n",
    "def count_years(df, column):\n",
    "    \n",
    "    # Dictionary, ve kterem jako klic ulozime (rok, jmeno autora)\n",
    "    # a jako hodnotu budeme pripocitavat pocet clanku\n",
    "    count = {}\n",
    "    \n",
    "    # Projdeme radky DataFramu\n",
    "    for _,row in df.iterrows():\n",
    "        year = row['year']\n",
    "        for element in row[column]:\n",
    "            key = (year, element) \n",
    "            # Pokud klic jiz existuje, pripocteme jednicku\n",
    "            if key in count.keys():\n",
    "                count[key] += 1\n",
    "            else:\n",
    "                # Pokud klic zatim neexistuje, vytvorime ho a pridame jedna\n",
    "                count[key] = 1  \n",
    "    return count              \n",
    "\n",
    "# Funkce, ktera nam najde nejcastejsiho autora v danem roce\n",
    "def find_most_common(count):\n",
    "    # Dictionary, ve kterem jako klic ulozime rok\n",
    "    # a jako hodnotu (jmeno autora, pocet clanku)\n",
    "    most_common = {}\n",
    "\n",
    "    # Projdeme klice a hodnoty dictionary\n",
    "    for key,value in count.items():\n",
    "        year = key[0]\n",
    "\n",
    "        # Pokud klic (rok) jiz existuje\n",
    "        if year in most_common:\n",
    "\n",
    "            # Zkontrolujeme, zda je pocet clanku u aktualniho autora vyssi\n",
    "            if most_common[year][0][1] < value:\n",
    "                most_common[year] = [(key[1], value)]    \n",
    "            \n",
    "             # Pokud mají stejný počet článků, přidáme aktuálního autora do listu\n",
    "            elif most_common[year][0][1] == value:\n",
    "                most_common[year].append((key[1], value))  \n",
    "        else:\n",
    "            most_common[year] = [(key[1], value)] \n",
    "    \n",
    "    #Klice slovniku seradime od nejmensiho cisla po nejvetsi         \n",
    "    years = list(most_common.keys())\n",
    "    years.sort()\n",
    "    sorted_most_common = {i: most_common[i] for i in years}        \n",
    "    return sorted_most_common            \n",
    "\n",
    "print(\"Funkce uloženy.\")"
   ]
  },
  {
   "cell_type": "code",
   "execution_count": null,
   "metadata": {},
   "outputs": [],
   "source": [
    "# Vybereme sloupec, ktery chceme vypsat\n",
    "picked_column = 'author'\n",
    "\n",
    "# Zavolame nase funkce\n",
    "count = count_years(df, picked_column)\n",
    "\n",
    "most_common = find_most_common(count)\n",
    "\n",
    "# Formatovani pro hezci vypis\n",
    "string = \"{year: >25} {name: >25} {records: >25}\"\n",
    "# Nejcastejsi hodnoty vypiseme\n",
    "print(string.format(year = \"Rok\", name = \"Nejčastější autor\", records = \"Počet záznamů\"))\n",
    "print(\"----------------------------------------------------------------------------------------------------\")\n",
    "for key, value in most_common.items():\n",
    "    for v in value:\n",
    "        print(string.format(year = key, name = v[0], records = v[1]))  "
   ]
  },
  {
   "cell_type": "markdown",
   "metadata": {},
   "source": [
    "<div class='alert alert-block alert-info'>\n",
    "    <b>Try It!</b> Kromě bibliografie literárního exilu můžeme vyzkoušet i jiné bibliografie. Stačí si v předchozím Jupyter notebooku vytvořit CSV tabulku. \n",
    "</div>\n"
   ]
  }
 ],
 "metadata": {
  "kernelspec": {
   "display_name": "Python 3",
   "language": "python",
   "name": "python3"
  },
  "language_info": {
   "codemirror_mode": {
    "name": "ipython",
    "version": 3
   },
   "file_extension": ".py",
   "mimetype": "text/x-python",
   "name": "python",
   "nbconvert_exporter": "python",
   "pygments_lexer": "ipython3",
   "version": "3.11.4"
  },
  "orig_nbformat": 4
 },
 "nbformat": 4,
 "nbformat_minor": 2
}
